{
 "cells": [
  {
   "cell_type": "code",
   "execution_count": null,
   "metadata": {},
   "outputs": [],
   "source": [
    "print ( \" Este mensaje se auto destruirá en 5 seg.\")\n",
    "# range es un conteo de tal a tal numero, aqui se puso que empesara del 5 al 0, pero para que sea regresivo se le pone -1 \n",
    "# para indicar que va en retroseso \n",
    "for i in range (5, 0,-1):     \n",
    "    print (i)"
   ]
  },
  {
   "cell_type": "code",
   "execution_count": null,
   "metadata": {},
   "outputs": [],
   "source": [
    "# no olvidar abrir la libreria para poder usar las funciones \n",
    "import time      \n",
    "\n",
    "print ( \" Este mensaje se auto destruirá en 5 seg.\")\n",
    "for i in range (5, 0,-1):\n",
    "    print (i)\n",
    "    time.sleep(1)\n",
    "print (\"Boom! Tu computadora a desaparacido!\")"
   ]
  },
  {
   "cell_type": "code",
   "execution_count": 17,
   "metadata": {},
   "outputs": [
    {
     "name": "stdout",
     "output_type": "stream",
     "text": [
      " Este mensaje se auto destruirá en 5 seg.\n",
      "5\n",
      "4\n",
      "3\n",
      "2\n",
      "1\n",
      "Boom! Tu computadora a desaparacido!\n"
     ]
    }
   ],
   "source": [
    "# esto es para la recursiva \n",
    "import time      \n",
    "\n",
    "def cuenta_regresiva(n):\n",
    "    if n ==0:   # esta es la condicion para ideintificar cual es el final \n",
    "        return\n",
    "    else:\n",
    "        # n = 5  esto es lo que vale, esto es el final ? no tiene que ser cuando llegue a 0 \n",
    "        # no es el final, hay que continuar con 4\n",
    "        print (n)\n",
    "        time.sleep(1)   #esto es para indicar el tiempo de espera del conteo \n",
    "        # continua el conteo con 4 \n",
    "        cuenta_regresiva(n-1)\n",
    "\n",
    "print ( \" Este mensaje se auto destruirá en 5 seg.\")\n",
    "cuenta_regresiva(5)\n",
    "print (\"Boom! Tu computadora a desaparacido!\")"
   ]
  },
  {
   "cell_type": "code",
   "execution_count": null,
   "metadata": {},
   "outputs": [],
   "source": []
  }
 ],
 "metadata": {
  "kernelspec": {
   "display_name": "Python 3",
   "language": "python",
   "name": "python3"
  },
  "language_info": {
   "codemirror_mode": {
    "name": "ipython",
    "version": 3
   },
   "file_extension": ".py",
   "mimetype": "text/x-python",
   "name": "python",
   "nbconvert_exporter": "python",
   "pygments_lexer": "ipython3",
   "version": "3.7.6"
  }
 },
 "nbformat": 4,
 "nbformat_minor": 4
}
