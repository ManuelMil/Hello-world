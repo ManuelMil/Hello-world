{
 "cells": [
  {
   "cell_type": "markdown",
   "metadata": {},
   "source": [
    "# Reto Nivel Dios : Modificar el Script lista_carpeta.py para imprimir la lista de elementos de todas las subcarpetas y subsubcarpetas, mientras exista subniveles( imprimir todo el arbol de carpetas). ( tema de recursividad)\n",
    "\n",
    "# funciones Recursivas "
   ]
  },
  {
   "cell_type": "code",
   "execution_count": 22,
   "metadata": {},
   "outputs": [
    {
     "name": "stdout",
     "output_type": "stream",
     "text": [
      ".\\.ipynb_checkpoints/                                                 0 Wed May  6 19:30:21 2020\n",
      ".\\.ipynb_checkpoints\\lista_carpeta-checkpoint.py                   2388 Wed May  6 20:58:12 2020\n",
      ".\\.ipynb_checkpoints\\Mision_imposible-checkpoint.ipynb               72 Wed May  6 18:36:13 2020\n",
      ".\\.ipynb_checkpoints\\Notas-checkpoint.ipynb                          72 Wed May  6 19:28:50 2020\n",
      ".\\datos/                                                              0 Wed May  6 20:27:04 2020\n",
      ".\\datos\\.ipynb_checkpoints/                                           0 Wed May  6 20:26:54 2020\n",
      ".\\datos\\Alumnos.txt                                                   0 Wed May  6 20:26:44 2020\n",
      ".\\datos\\Untitled Folder/                                              0 Wed May  6 20:27:17 2020\n",
      ".\\datos\\Untitled Folder\\.ipynb_checkpoints/                           0 Wed May  6 20:27:17 2020\n",
      ".\\datos\\Untitled Folder\\asistencia.txt                                0 Wed May  6 20:27:09 2020\n",
      ".\\lista_carpeta.py                                                 2388 Wed May  6 20:58:12 2020\n",
      ".\\Mision_imposible.ipynb                                           2533 Wed May  6 18:56:15 2020\n",
      ".\\Notas.ipynb                                                      4789 Wed May  6 20:47:21 2020\n",
      "----------------------------------------\n",
      "Total: 9710 Bytes\n"
     ]
    }
   ],
   "source": [
    "\n",
    "\n",
    "        \n",
    "import os \n",
    "import time \n",
    "\n",
    "# variables \n",
    "                # \"\"\\Users\\Desarrollador1\\CursoPython\\sesion-03>\n",
    "carpeta = \".\"   # esto es lo que hace referencia a la carpeta actual\n",
    "\n",
    "def obtener_elementos(carpeta):\n",
    "    \"\"\"\n",
    "    Obtiene los lementos de la carpeta y regresa en forma de lista \n",
    "    \"\"\"\n",
    "    \n",
    "    # obtener la lista de elementos de una carpeta \n",
    "    \n",
    "    nombres = os.listdir ( carpeta) # [\"2nom1\", \"nom2\", ...]\n",
    "    \n",
    "    # Agregando carpeta a la lista de nombres\n",
    "    for i, nom in enumerate (nombres): \n",
    "        #[0(,\" nom1)\")]\n",
    "        nombres[i] = os.path.join(carpeta, nom) \n",
    "           \n",
    "\n",
    "    \"\"\"        esto es  comentarios de recordarorios \n",
    "    estructura de datos para incluir el tamaño \n",
    "    [\n",
    "        [\"nom1\", 1234], \n",
    "        [\"nom2\", 5678],\n",
    "        ...\n",
    "    ]\n",
    "    \"\"\"\n",
    "    elementos = []\n",
    "    total = 0 \n",
    "    for nom in nombres:\n",
    "        if os.path.isfile(nom):     # si es archivo - : calcula el tamaño  \n",
    "            tam = os.path.getsize(nom)\n",
    "        else: # si es una carpeta entonces \n",
    "            tam= 0\n",
    "\n",
    "        # para obtener la fecha \n",
    "        fecha = os.path.getmtime(nom)\n",
    "        fecha = time.ctime(fecha)\n",
    "\n",
    "        elemento = [nom, tam, fecha]\n",
    "        elementos.append(elemento)\n",
    "    \n",
    "        # sumar el tam a total para cada elemento\"\n",
    "        \n",
    "        # total = total + tam \n",
    "        total += tam\n",
    "        \n",
    "        if os.path.isdir(nom):   # si nom es una carpeta ?\n",
    "            # sub_elementos = obtener_elementos (nom) \n",
    "            # lista de elementos - lista de lista \n",
    "            sub_elementos, sub_total = obtener_elementos (nom)\n",
    "            elementos += sub_elementos\n",
    "            \n",
    "        \n",
    "        \n",
    "    return elementos, total\n",
    "\n",
    "def imprimir_elementos(elementos, total):\n",
    "    \"\"\"\"\n",
    "    imprime la lista de elementos en formato en formato de texto de salida \n",
    "    \n",
    "    \"\"\"\n",
    "    # solo falta imprimir- se ingrsa para mostrar en forma de lista \n",
    "    for e in elementos:    \n",
    "        # e = [\"nom, 1234,\"]\n",
    "                    #print (\"{} {}\".format(e [0,e [0]))\n",
    "        if os.path.isdir(e[0]):\n",
    "            e[0] +=  \"/\"\n",
    "            #  e[0]  =e [0]+\"/\" \n",
    "\n",
    "        print (\"{:60} {:10} {:15}\".format(*e))\n",
    "        # va a agregar todos los elementos de e ( e = al nom , 1234, ... )\n",
    "    #imprimir total \n",
    "    print(\"-\" * 40)\n",
    "    print (\"Total: {} Bytes\".format(total)) \n",
    "        \n",
    "\n",
    "# llamando a las funciones \n",
    "elementos, total = obtener_elementos (carpeta)\n",
    "imprimir_elementos(elementos, total)\n",
    "\n"
   ]
  },
  {
   "cell_type": "markdown",
   "metadata": {},
   "source": [
    "# Reto : Imprimir el total de tal forma que incluya los subtotales de todas las subcarpetas "
   ]
  },
  {
   "cell_type": "code",
   "execution_count": null,
   "metadata": {},
   "outputs": [],
   "source": [
    "\n"
   ]
  },
  {
   "cell_type": "markdown",
   "metadata": {},
   "source": [
    "# Convirtiendo nuestro script en un módulos o librería "
   ]
  },
  {
   "cell_type": "code",
   "execution_count": 23,
   "metadata": {},
   "outputs": [],
   "source": [
    "import lc\n"
   ]
  },
  {
   "cell_type": "code",
   "execution_count": 25,
   "metadata": {},
   "outputs": [
    {
     "data": {
      "text/plain": [
       "\u001b[1;31mSignature:\u001b[0m \u001b[0mlc\u001b[0m\u001b[1;33m.\u001b[0m\u001b[0mobtener_elementos\u001b[0m\u001b[1;33m(\u001b[0m\u001b[0mcarpeta\u001b[0m\u001b[1;33m)\u001b[0m\u001b[1;33m\u001b[0m\u001b[1;33m\u001b[0m\u001b[0m\n",
       "\u001b[1;31mDocstring:\u001b[0m Obtiene los lementos de la carpeta y regresa en forma de lista \n",
       "\u001b[1;31mFile:\u001b[0m      c:\\users\\desarrollador1\\cursopython\\sesion-04\\lc.py\n",
       "\u001b[1;31mType:\u001b[0m      function\n"
      ]
     },
     "metadata": {},
     "output_type": "display_data"
    }
   ],
   "source": [
    "lc.obtener_elementos?\n"
   ]
  },
  {
   "cell_type": "code",
   "execution_count": 30,
   "metadata": {},
   "outputs": [
    {
     "name": "stdout",
     "output_type": "stream",
     "text": [
      "datos\\.ipynb_checkpoints/                                             0 Wed May  6 20:26:54 2020\n",
      "datos\\Alumnos.txt                                                     0 Wed May  6 20:26:44 2020\n",
      "datos\\Untitled Folder/                                                0 Wed May  6 20:27:17 2020\n",
      "datos\\Untitled Folder\\.ipynb_checkpoints/                             0 Wed May  6 20:27:17 2020\n",
      "datos\\Untitled Folder\\asistencia.txt                                  0 Wed May  6 20:27:09 2020\n",
      "----------------------------------------\n",
      "Total: 0 Bytes\n"
     ]
    }
   ],
   "source": [
    "a,t = lc.obtener_elementos(\"datos\")\n",
    "lc.imprimir_elementos(a,t)"
   ]
  },
  {
   "cell_type": "code",
   "execution_count": 27,
   "metadata": {},
   "outputs": [
    {
     "data": {
      "text/plain": [
       "<function lc.main()>"
      ]
     },
     "execution_count": 27,
     "metadata": {},
     "output_type": "execute_result"
    }
   ],
   "source": [
    "lc.main"
   ]
  },
  {
   "cell_type": "markdown",
   "metadata": {},
   "source": [
    " # Archivos en Python \n",
    " "
   ]
  },
  {
   "cell_type": "markdown",
   "metadata": {},
   "source": [
    "## Modificar el script anterior para guardar los resultados en el archivo salida. txt"
   ]
  },
  {
   "cell_type": "code",
   "execution_count": null,
   "metadata": {},
   "outputs": [],
   "source": []
  },
  {
   "cell_type": "markdown",
   "metadata": {},
   "source": [
    "# Reto 2: Modificar el script para guardar la lista de archivos en el archivo salida.csv en formato CSV.\n",
    "# ej,:\n",
    "\"\"\" \n",
    "nombre,tamaño,fecha\n",
    "nom1,1234,fecha1,\n",
    "nom2,5678,fecha2\n",
    "\"\"\"\n",
    "Nota: Usar el módulo \"csv\"\n"
   ]
  },
  {
   "cell_type": "markdown",
   "metadata": {},
   "source": [
    "## Reto 3: Modificar el Script para guardar la lista de archivos en el archivo salida.json en formato JSON.\n",
    "# nota: usar el módulo json"
   ]
  },
  {
   "cell_type": "code",
   "execution_count": null,
   "metadata": {},
   "outputs": [],
   "source": []
  }
 ],
 "metadata": {
  "kernelspec": {
   "display_name": "Python 3",
   "language": "python",
   "name": "python3"
  },
  "language_info": {
   "codemirror_mode": {
    "name": "ipython",
    "version": 3
   },
   "file_extension": ".py",
   "mimetype": "text/x-python",
   "name": "python",
   "nbconvert_exporter": "python",
   "pygments_lexer": "ipython3",
   "version": "3.7.6"
  }
 },
 "nbformat": 4,
 "nbformat_minor": 4
}
