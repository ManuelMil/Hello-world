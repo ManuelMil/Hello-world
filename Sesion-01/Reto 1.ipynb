{
 "cells": [
  {
   "cell_type": "markdown",
   "metadata": {},
   "source": [
    "# Reto: fizzbuzz.py\n",
    "# Muestra en pantalla los numeros del 1 al 20, sustituyendo los múltiplos de 3 por palabra \"Fizz\" y a su vez, los múltiplos de 5 por \"Buzz\". Para los números que, al tiempo, son múltiplos de 3 y 5, utiliza el combinado \"FizzBuzz\""
   ]
  },
  {
   "cell_type": "code",
   "execution_count": 3,
   "metadata": {},
   "outputs": [
    {
     "ename": "IndentationError",
     "evalue": "unexpected indent (<ipython-input-3-9b67ba20a343>, line 2)",
     "output_type": "error",
     "traceback": [
      "\u001b[1;36m  File \u001b[1;32m\"<ipython-input-3-9b67ba20a343>\"\u001b[1;36m, line \u001b[1;32m2\u001b[0m\n\u001b[1;33m    if Conteo ==\u001b[0m\n\u001b[1;37m    ^\u001b[0m\n\u001b[1;31mIndentationError\u001b[0m\u001b[1;31m:\u001b[0m unexpected indent\n"
     ]
    }
   ],
   "source": [
    "Conteo = list (range(1,21))\n",
    "    if Conteo == \n",
    "\n",
    "\n",
    "print (Conteo)\n",
    "\n"
   ]
  },
  {
   "cell_type": "code",
   "execution_count": 8,
   "metadata": {},
   "outputs": [
    {
     "ename": "SyntaxError",
     "evalue": "invalid syntax (<ipython-input-8-2d46f2e18754>, line 2)",
     "output_type": "error",
     "traceback": [
      "\u001b[1;36m  File \u001b[1;32m\"<ipython-input-8-2d46f2e18754>\"\u001b[1;36m, line \u001b[1;32m2\u001b[0m\n\u001b[1;33m    resto = true if (i % 3 == 0 ) else false\u001b[0m\n\u001b[1;37m        ^\u001b[0m\n\u001b[1;31mSyntaxError\u001b[0m\u001b[1;31m:\u001b[0m invalid syntax\n"
     ]
    }
   ],
   "source": [
    "\n",
    "for i in list (range( 1, 20)\n",
    "    resto = true if (i % 3 == 0 ) else false\n",
    "    resto_cinco = true if (i % 5 == 0 ) else false\n",
    "    if resto: \n",
    "        print (\"FizzBuzz\") if (resto_cinco) else print ( \"Fizz\")\n",
    "    else\n",
    "        print (\"Buzz\") if (resto_cinco) else print ( i )\n"
   ]
  },
  {
   "cell_type": "code",
   "execution_count": 1,
   "metadata": {},
   "outputs": [
    {
     "ename": "SyntaxError",
     "evalue": "invalid syntax (<ipython-input-1-f9947e668dc2>, line 5)",
     "output_type": "error",
     "traceback": [
      "\u001b[1;36m  File \u001b[1;32m\"<ipython-input-1-f9947e668dc2>\"\u001b[1;36m, line \u001b[1;32m5\u001b[0m\n\u001b[1;33m    print (conteo)\u001b[0m\n\u001b[1;37m        ^\u001b[0m\n\u001b[1;31mSyntaxError\u001b[0m\u001b[1;31m:\u001b[0m invalid syntax\n"
     ]
    }
   ],
   "source": [
    "Conteo = list (range (1, 21)\n",
    "   # if (conteo % 3 == 0)\n",
    "    # print (\"buzz\")\n",
    "    \n",
    "print (conteo)\n",
    "       "
   ]
  },
  {
   "cell_type": "code",
   "execution_count": 2,
   "metadata": {},
   "outputs": [
    {
     "ename": "SyntaxError",
     "evalue": "invalid syntax (<ipython-input-2-201859d97378>, line 1)",
     "output_type": "error",
     "traceback": [
      "\u001b[1;36m  File \u001b[1;32m\"<ipython-input-2-201859d97378>\"\u001b[1;36m, line \u001b[1;32m1\u001b[0m\n\u001b[1;33m    for i in range (1, n+1)\u001b[0m\n\u001b[1;37m                            ^\u001b[0m\n\u001b[1;31mSyntaxError\u001b[0m\u001b[1;31m:\u001b[0m invalid syntax\n"
     ]
    }
   ],
   "source": []
  },
  {
   "cell_type": "code",
   "execution_count": 13,
   "metadata": {},
   "outputs": [
    {
     "name": "stdout",
     "output_type": "stream",
     "text": [
      "1\n",
      "2\n",
      "Fizz\n",
      "4\n",
      "Buzz\n",
      "Fizz\n",
      "7\n",
      "8\n",
      "Fizz\n",
      "Buzz\n",
      "11\n",
      "Fizz\n",
      "13\n",
      "14\n",
      "FizzBuzz\n",
      "16\n",
      "17\n",
      "Fizz\n",
      "19\n",
      "Buzz\n"
     ]
    }
   ],
   "source": [
    "i = 1\n",
    "while i <= 20 :\n",
    "    print (\"Fizz\"*(i % 3 == 0) + (i % 5 ==0)*\"Buzz\" or i)\n",
    "    i+=1   # esto se le como i = i + 1, lo que hace es que sea un ciclo hasta que i llegue a ser  igual a 20\n",
    "    \n"
   ]
  },
  {
   "cell_type": "code",
   "execution_count": 17,
   "metadata": {},
   "outputs": [
    {
     "name": "stdout",
     "output_type": "stream",
     "text": [
      "1\n",
      "2\n",
      "Fizz4\n",
      "buzzFizz7\n",
      "8\n",
      "Fizzbuzz11\n",
      "Fizz13\n",
      "14\n",
      "Fizzbuzz16\n",
      "17\n",
      "Fizz19\n",
      "buzz"
     ]
    }
   ],
   "source": [
    "for i in range (1, 21):\n",
    "    if i%3 == 0:\n",
    "        print (\"Fizz\", end=\"\")\n",
    "    if i%5 == 0:\n",
    "        print (\"buzz\", end=\"\")\n",
    "    if i % 3 != 0 and i % 5 !=0 :\n",
    "        print (i) \n",
    "        \n"
   ]
  },
  {
   "cell_type": "code",
   "execution_count": 18,
   "metadata": {},
   "outputs": [
    {
     "ename": "SyntaxError",
     "evalue": "invalid syntax (<ipython-input-18-7f57485fd42e>, line 11)",
     "output_type": "error",
     "traceback": [
      "\u001b[1;36m  File \u001b[1;32m\"<ipython-input-18-7f57485fd42e>\"\u001b[1;36m, line \u001b[1;32m11\u001b[0m\n\u001b[1;33m    elif i%x<0 and i %y<0\u001b[0m\n\u001b[1;37m                         ^\u001b[0m\n\u001b[1;31mSyntaxError\u001b[0m\u001b[1;31m:\u001b[0m invalid syntax\n"
     ]
    }
   ],
   "source": [
    "x=3\n",
    "y=5\n",
    "start=1\n",
    "end=20\n",
    "\n",
    "for i in range  ( start, end+1):\n",
    "    if i% x ==0 and i %y==0:\n",
    "        print (\"FizzBuzz\")\n",
    "    elif i%y ==0:\n",
    "        print (\"Buzz\")\n",
    "    elif i%x<0 and i %y<0\n",
    "        print(i)\n",
    "    \n",
    "        \n",
    "    "
   ]
  },
  {
   "cell_type": "code",
   "execution_count": null,
   "metadata": {},
   "outputs": [],
   "source": []
  }
 ],
 "metadata": {
  "kernelspec": {
   "display_name": "Python 3",
   "language": "python",
   "name": "python3"
  },
  "language_info": {
   "codemirror_mode": {
    "name": "ipython",
    "version": 3
   },
   "file_extension": ".py",
   "mimetype": "text/x-python",
   "name": "python",
   "nbconvert_exporter": "python",
   "pygments_lexer": "ipython3",
   "version": "3.7.6"
  }
 },
 "nbformat": 4,
 "nbformat_minor": 4
}
