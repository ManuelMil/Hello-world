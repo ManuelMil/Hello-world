{
 "cells": [
  {
   "cell_type": "markdown",
   "metadata": {},
   "source": [
    "# Creando una lista de los 10 primeros enteros "
   ]
  },
  {
   "cell_type": "code",
   "execution_count": 1,
   "metadata": {},
   "outputs": [
    {
     "data": {
      "text/plain": [
       "[1, 2, 3, 4, 2, 6, 7, 8, 9, 10]"
      ]
     },
     "execution_count": 1,
     "metadata": {},
     "output_type": "execute_result"
    }
   ],
   "source": [
    "lista = [1,2,3,4,2,6,7,8,9,10]\n",
    "lista "
   ]
  },
  {
   "cell_type": "code",
   "execution_count": 3,
   "metadata": {},
   "outputs": [
    {
     "name": "stdout",
     "output_type": "stream",
     "text": [
      "1 1 1\n",
      "2 4 8\n",
      "3 9 27\n",
      "4 16 64\n",
      "2 4 8\n",
      "6 36 216\n",
      "7 49 343\n",
      "8 64 512\n",
      "9 81 729\n",
      "10 100 1000\n"
     ]
    }
   ],
   "source": [
    "lista = [1,2,3,4,2,6,7,8,9,10]\n",
    "for i in lista:\n",
    "    print (i, i **2, i**3) # esto se calcula al cuadrado y al cubo del valor i \n",
    "    \n",
    "    "
   ]
  },
  {
   "cell_type": "code",
   "execution_count": 28,
   "metadata": {},
   "outputs": [
    {
     "name": "stdout",
     "output_type": "stream",
     "text": [
      "1.0\n",
      "2.0\n",
      "3.0\n",
      "4.0\n",
      "5.0\n",
      "6.0\n",
      "7.0\n",
      "8.0\n",
      "9.0\n",
      "10.0\n"
     ]
    }
   ],
   "source": [
    "n = 10\n",
    "lista = list (range (1, n+1)) # genera u obtine la lista \n",
    "\n",
    "lista = [float (i) for i in lista]\n",
    "\n",
    "for i in lista: # imprimir la lista \n",
    "      print (i)"
   ]
  },
  {
   "cell_type": "code",
   "execution_count": 26,
   "metadata": {},
   "outputs": [
    {
     "ename": "SyntaxError",
     "evalue": "invalid syntax (<ipython-input-26-61b7de3cdb02>, line 7)",
     "output_type": "error",
     "traceback": [
      "\u001b[1;36m  File \u001b[1;32m\"<ipython-input-26-61b7de3cdb02>\"\u001b[1;36m, line \u001b[1;32m7\u001b[0m\n\u001b[1;33m    lista = [float (i) for i in lista]\u001b[0m\n\u001b[1;37m        ^\u001b[0m\n\u001b[1;31mSyntaxError\u001b[0m\u001b[1;31m:\u001b[0m invalid syntax\n"
     ]
    }
   ],
   "source": [
    "n = 10\n",
    "lista = list (range((1, n+1)) # genera u obtine la lista \n",
    "# Convertit de int -< float\n",
    "#for i in range (n):\n",
    "#   lista[i] = float(lista[i])\n",
    "\n",
    "lista = [float (i) for i in lista]\n",
    "              \n",
    "for i in lista: # imprimir la lista \n",
    "      print(i)"
   ]
  },
  {
   "cell_type": "code",
   "execution_count": 13,
   "metadata": {},
   "outputs": [
    {
     "name": "stdout",
     "output_type": "stream",
     "text": [
      "5.0 <class 'float'>\n"
     ]
    }
   ],
   "source": [
    "b = float(5)\n",
    "print(b, type(b))"
   ]
  },
  {
   "cell_type": "code",
   "execution_count": 22,
   "metadata": {},
   "outputs": [
    {
     "name": "stdin",
     "output_type": "stream",
     "text": [
      "Introduce el numero de repeticiones:  10\n"
     ]
    },
    {
     "name": "stdout",
     "output_type": "stream",
     "text": [
      "0.1\n",
      "0.2\n",
      "0.30000000000000004\n",
      "0.4\n",
      "0.5\n",
      "0.6\n",
      "0.7\n",
      "0.7999999999999999\n",
      "0.8999999999999999\n",
      "0.9999999999999999\n"
     ]
    }
   ],
   "source": [
    "try:\n",
    "    n = int(input('Introduce el numero de repeticiones: '))\n",
    "except:\n",
    "    print(\"La entrada no fue un numero\")\n",
    "    exit(1)\n",
    "i = 1\n",
    "x = 0.1\n",
    "for i in range(1, n + 1):\n",
    "    print(x)\n",
    "    x+=0.1"
   ]
  },
  {
   "cell_type": "code",
   "execution_count": 23,
   "metadata": {},
   "outputs": [
    {
     "name": "stdin",
     "output_type": "stream",
     "text": [
      "Tamaño de la lista:  10\n"
     ]
    },
    {
     "name": "stdout",
     "output_type": "stream",
     "text": [
      "1.0 1.0 1.0\n",
      "2.0 4.0 8.0\n",
      "3.0 9.0 27.0\n",
      "4.0 16.0 64.0\n",
      "5.0 25.0 125.0\n",
      "6.0 36.0 216.0\n",
      "7.0 49.0 343.0\n",
      "8.0 64.0 512.0\n",
      "9.0 81.0 729.0\n",
      "10.0 100.0 1000.0\n"
     ]
    }
   ],
   "source": [
    "# Crear una lista\n",
    "n=int(input(\"Tamaño de la lista: \"))\n",
    "lista = list((range(1,n+1)))\n",
    "\n",
    "#Convertir a float\n",
    "lista2 = [float(i) for i in lista]\n",
    "\n",
    "#Imprimir cada elemento\n",
    "for i in lista2:\n",
    "    print(i, i**2, i**3)"
   ]
  },
  {
   "cell_type": "code",
   "execution_count": 29,
   "metadata": {},
   "outputs": [
    {
     "name": "stdin",
     "output_type": "stream",
     "text": [
      "Tamaño de la lista:  10\n"
     ]
    },
    {
     "name": "stdout",
     "output_type": "stream",
     "text": [
      "1.0\n",
      "2.0\n",
      "3.0\n",
      "4.0\n",
      "5.0\n",
      "6.0\n",
      "7.0\n",
      "8.0\n",
      "9.0\n",
      "10.0\n"
     ]
    }
   ],
   "source": [
    "# Crear una lista\n",
    "n=int(input(\"Tamaño de la lista: \"))\n",
    "lista = list((range(1,n+1)))\n",
    "\n",
    "#Convertir a float\n",
    "lista2 = [float(i) for i in lista]\n",
    "\n",
    "#Imprimir cada elemento\n",
    "for i in lista2:\n",
    "    print(i)"
   ]
  },
  {
   "cell_type": "code",
   "execution_count": null,
   "metadata": {},
   "outputs": [],
   "source": []
  }
 ],
 "metadata": {
  "kernelspec": {
   "display_name": "Python 3",
   "language": "python",
   "name": "python3"
  },
  "language_info": {
   "codemirror_mode": {
    "name": "ipython",
    "version": 3
   },
   "file_extension": ".py",
   "mimetype": "text/x-python",
   "name": "python",
   "nbconvert_exporter": "python",
   "pygments_lexer": "ipython3",
   "version": "3.7.6"
  }
 },
 "nbformat": 4,
 "nbformat_minor": 4
}
