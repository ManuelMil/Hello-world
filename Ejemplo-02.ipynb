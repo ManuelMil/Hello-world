{
 "cells": [
  {
   "cell_type": "markdown",
   "metadata": {},
   "source": [
    "# Hola mundo en python"
   ]
  },
  {
   "cell_type": "markdown",
   "metadata": {},
   "source": [
    "vamos a ejecutar el clásico hola mundo en python usando jupyter lab"
   ]
  },
  {
   "cell_type": "code",
   "execution_count": 2,
   "metadata": {},
   "outputs": [
    {
     "name": "stdout",
     "output_type": "stream",
     "text": [
      "Hola mundo de Python desde CDMX\n"
     ]
    }
   ],
   "source": [
    "print (\"Hola mundo de Python desde CDMX\")"
   ]
  },
  {
   "cell_type": "code",
   "execution_count": 7,
   "metadata": {},
   "outputs": [],
   "source": [
    "## Calcular el volumen de un cubo  \n",
    "## V = L x L x L \n",
    "\n"
   ]
  },
  {
   "cell_type": "code",
   "execution_count": 8,
   "metadata": {},
   "outputs": [
    {
     "data": {
      "text/plain": [
       "125000"
      ]
     },
     "execution_count": 8,
     "metadata": {},
     "output_type": "execute_result"
    }
   ],
   "source": [
    "L = 50 \n",
    "V = L * L * L\n",
    "V"
   ]
  },
  {
   "cell_type": "markdown",
   "metadata": {},
   "source": [
    "# calcular el volumen de una esfera de radio 80 \n"
   ]
  },
  {
   "cell_type": "code",
   "execution_count": 28,
   "metadata": {},
   "outputs": [],
   "source": [
    "v = 80 * 3.141592"
   ]
  },
  {
   "cell_type": "code",
   "execution_count": 13,
   "metadata": {},
   "outputs": [],
   "source": [
    "#  V 4 / 3  pi * R  / 3 "
   ]
  },
  {
   "cell_type": "code",
   "execution_count": 29,
   "metadata": {},
   "outputs": [
    {
     "data": {
      "text/plain": [
       "2144660.1386666666"
      ]
     },
     "execution_count": 29,
     "metadata": {},
     "output_type": "execute_result"
    }
   ],
   "source": [
    "Pi = 3.141592\n",
    "R = 80\n",
    "V = 4 / 3 * Pi * R ** 3\n",
    "V"
   ]
  },
  {
   "cell_type": "markdown",
   "metadata": {},
   "source": [
    "# Generar la tabla de multiplicar 3 "
   ]
  },
  {
   "cell_type": "code",
   "execution_count": 36,
   "metadata": {},
   "outputs": [
    {
     "name": "stdout",
     "output_type": "stream",
     "text": [
      "  3 x   1 =    3\n",
      "  3 x   2 =    3\n",
      "  3 x   3 =    3\n",
      "  3 x   4 =    3\n",
      "  3 x   5 =    3\n",
      "  3 x  10 =    3\n",
      "  3 x 100 =    3\n"
     ]
    }
   ],
   "source": [
    "n = 3 \n",
    "\n",
    "print (\"{:3} x {:3} = {:4}\". format(n, 1, n*1))\n",
    "print (\"{:3} x {:3} = {:4}\". format(n, 2, n*1))\n",
    "print (\"{:3} x {:3} = {:4}\". format(n, 3, n*1))\n",
    "print (\"{:3} x {:3} = {:4}\". format(n, 4, n*1))\n",
    "print (\"{:3} x {:3} = {:4}\". format(n, 5, n*1))\n",
    "print (\"{:3} x {:3} = {:4}\". format(n, 10, n*1))\n",
    "print (\"{:3} x {:3} = {:4}\". format(n, 100, n*1))\n",
    "\n",
    "\n"
   ]
  },
  {
   "cell_type": "markdown",
   "metadata": {},
   "source": [
    "# generar la tabla de multiplicar del 11 \n"
   ]
  },
  {
   "cell_type": "code",
   "execution_count": 14,
   "metadata": {},
   "outputs": [
    {
     "name": "stdout",
     "output_type": "stream",
     "text": [
      "  3 x   1 =    3\n",
      "  3 x   2 =    6\n",
      "  3 x   3 =    9\n",
      "  3 x   4 =   12\n",
      "  3 x   5 =   15\n",
      "  3 x   6 =   18\n",
      "  3 x   7 =   21\n",
      "  3 x   8 =   24\n",
      "  3 x   9 =   27\n",
      "  3 x  10 =   30\n",
      "  3 x  11 =   33\n"
     ]
    }
   ],
   "source": [
    "n= 3\n",
    "for i in range (1,12) :\n",
    "    print (\"{:3} x {:3} = {:4}\" .format (n, i, n*i))"
   ]
  },
  {
   "cell_type": "markdown",
   "metadata": {},
   "source": [
    "# Ciclo for en python, range "
   ]
  },
  {
   "cell_type": "code",
   "execution_count": 2,
   "metadata": {},
   "outputs": [
    {
     "name": "stdout",
     "output_type": "stream",
     "text": [
      " 12 x   1 =   12\n",
      " 12 x   2 =   24\n",
      " 12 x   3 =   36\n",
      " 12 x   4 =   48\n",
      " 12 x   5 =   60\n",
      " 12 x   6 =   72\n",
      " 12 x   7 =   84\n",
      " 12 x   8 =   96\n",
      " 12 x   9 =  108\n",
      " 12 x  10 =  120\n"
     ]
    }
   ],
   "source": [
    "n= 12 \n",
    "for i in range (1,11) :\n",
    "    print (\"{:3} x {:3} = {:4}\" .format (n, i, n*i))"
   ]
  },
  {
   "cell_type": "markdown",
   "metadata": {},
   "source": [
    "# Reto ; fizzbuzz.py \n",
    "\n",
    "muestra en pantalla los números del 1 al 20, sustituyendo los multiplos de 3 por la palabra \"fizz\" y, a su vez, los múltiplos de 5 por \"Buzz\". Para los números que, al tiempo, son múltiplos de 3 y 5, y utiliza el combinado \"Fizz Buzz\""
   ]
  },
  {
   "cell_type": "code",
   "execution_count": 3,
   "metadata": {},
   "outputs": [
    {
     "name": "stdout",
     "output_type": "stream",
     "text": [
      "2\n"
     ]
    }
   ],
   "source": []
  },
  {
   "cell_type": "code",
   "execution_count": null,
   "metadata": {},
   "outputs": [],
   "source": []
  }
 ],
 "metadata": {
  "kernelspec": {
   "display_name": "Python 3",
   "language": "python",
   "name": "python3"
  },
  "language_info": {
   "codemirror_mode": {
    "name": "ipython",
    "version": 3
   },
   "file_extension": ".py",
   "mimetype": "text/x-python",
   "name": "python",
   "nbconvert_exporter": "python",
   "pygments_lexer": "ipython3",
   "version": "3.7.6"
  }
 },
 "nbformat": 4,
 "nbformat_minor": 4
}
