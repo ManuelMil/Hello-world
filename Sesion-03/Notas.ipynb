{
 "cells": [
  {
   "cell_type": "markdown",
   "metadata": {},
   "source": [
    "# Ejemplo:\n",
    "# Crear el script genera_claves.py que permite crear una lista de n contraseñas de longitud m, cada contraseña debera contar con una minuscula una mayúscula, y un digito cuando menos.\n",
    "\n"
   ]
  },
  {
   "cell_type": "code",
   "execution_count": 1,
   "metadata": {},
   "outputs": [],
   "source": [
    "import random "
   ]
  },
  {
   "cell_type": "code",
   "execution_count": 2,
   "metadata": {},
   "outputs": [
    {
     "data": {
      "text/plain": [
       "\u001b[1;31mType:\u001b[0m        module\n",
       "\u001b[1;31mString form:\u001b[0m <module 'random' from 'c:\\\\users\\\\desarrollador1\\\\miniconda3\\\\lib\\\\random.py'>\n",
       "\u001b[1;31mFile:\u001b[0m        c:\\users\\desarrollador1\\miniconda3\\lib\\random.py\n",
       "\u001b[1;31mDocstring:\u001b[0m  \n",
       "Random variable generators.\n",
       "\n",
       "    integers\n",
       "    --------\n",
       "           uniform within range\n",
       "\n",
       "    sequences\n",
       "    ---------\n",
       "           pick random element\n",
       "           pick random sample\n",
       "           pick weighted random sample\n",
       "           generate random permutation\n",
       "\n",
       "    distributions on the real line:\n",
       "    ------------------------------\n",
       "           uniform\n",
       "           triangular\n",
       "           normal (Gaussian)\n",
       "           lognormal\n",
       "           negative exponential\n",
       "           gamma\n",
       "           beta\n",
       "           pareto\n",
       "           Weibull\n",
       "\n",
       "    distributions on the circle (angles 0 to 2pi)\n",
       "    ---------------------------------------------\n",
       "           circular uniform\n",
       "           von Mises\n",
       "\n",
       "General notes on the underlying Mersenne Twister core generator:\n",
       "\n",
       "* The period is 2**19937-1.\n",
       "* It is one of the most extensively tested generators in existence.\n",
       "* The random() method is implemented in C, executes in a single Python step,\n",
       "  and is, therefore, threadsafe.\n"
      ]
     },
     "metadata": {},
     "output_type": "display_data"
    }
   ],
   "source": [
    "random?\n"
   ]
  },
  {
   "cell_type": "code",
   "execution_count": 3,
   "metadata": {},
   "outputs": [
    {
     "data": {
      "text/plain": [
       "\u001b[1;31mSignature:\u001b[0m \u001b[0mrandom\u001b[0m\u001b[1;33m.\u001b[0m\u001b[0mchoice\u001b[0m\u001b[1;33m(\u001b[0m\u001b[0mseq\u001b[0m\u001b[1;33m)\u001b[0m\u001b[1;33m\u001b[0m\u001b[1;33m\u001b[0m\u001b[0m\n",
       "\u001b[1;31mDocstring:\u001b[0m Choose a random element from a non-empty sequence.\n",
       "\u001b[1;31mFile:\u001b[0m      c:\\users\\desarrollador1\\miniconda3\\lib\\random.py\n",
       "\u001b[1;31mType:\u001b[0m      method\n"
      ]
     },
     "metadata": {},
     "output_type": "display_data"
    }
   ],
   "source": [
    "random.choice?"
   ]
  },
  {
   "cell_type": "code",
   "execution_count": 4,
   "metadata": {},
   "outputs": [
    {
     "data": {
      "text/plain": [
       "208827064576"
      ]
     },
     "execution_count": 4,
     "metadata": {},
     "output_type": "execute_result"
    }
   ],
   "source": [
    "26**8  # esto es 26 a la 8va potencia \n"
   ]
  },
  {
   "cell_type": "code",
   "execution_count": 5,
   "metadata": {},
   "outputs": [
    {
     "data": {
      "text/plain": [
       "\u001b[1;31mSignature:\u001b[0m \u001b[0mrandom\u001b[0m\u001b[1;33m.\u001b[0m\u001b[0mchoices\u001b[0m\u001b[1;33m(\u001b[0m\u001b[0mpopulation\u001b[0m\u001b[1;33m,\u001b[0m \u001b[0mweights\u001b[0m\u001b[1;33m=\u001b[0m\u001b[1;32mNone\u001b[0m\u001b[1;33m,\u001b[0m \u001b[1;33m*\u001b[0m\u001b[1;33m,\u001b[0m \u001b[0mcum_weights\u001b[0m\u001b[1;33m=\u001b[0m\u001b[1;32mNone\u001b[0m\u001b[1;33m,\u001b[0m \u001b[0mk\u001b[0m\u001b[1;33m=\u001b[0m\u001b[1;36m1\u001b[0m\u001b[1;33m)\u001b[0m\u001b[1;33m\u001b[0m\u001b[1;33m\u001b[0m\u001b[0m\n",
       "\u001b[1;31mDocstring:\u001b[0m\n",
       "Return a k sized list of population elements chosen with replacement.\n",
       "\n",
       "If the relative weights or cumulative weights are not specified,\n",
       "the selections are made with equal probability.\n",
       "\u001b[1;31mFile:\u001b[0m      c:\\users\\desarrollador1\\miniconda3\\lib\\random.py\n",
       "\u001b[1;31mType:\u001b[0m      method\n"
      ]
     },
     "metadata": {},
     "output_type": "display_data"
    }
   ],
   "source": [
    "random.choices?\n"
   ]
  },
  {
   "cell_type": "code",
   "execution_count": 8,
   "metadata": {},
   "outputs": [
    {
     "ename": "SyntaxError",
     "evalue": "invalid syntax (<ipython-input-8-ec13cb652dd5>, line 2)",
     "output_type": "error",
     "traceback": [
      "\u001b[1;36m  File \u001b[1;32m\"<ipython-input-8-ec13cb652dd5>\"\u001b[1;36m, line \u001b[1;32m2\u001b[0m\n\u001b[1;33m    for i in ([\"a\", \"B\", \"r\", \"3\", \"s\"])\u001b[0m\n\u001b[1;37m                                        ^\u001b[0m\n\u001b[1;31mSyntaxError\u001b[0m\u001b[1;31m:\u001b[0m invalid syntax\n"
     ]
    }
   ],
   "source": [
    "cadena = \"\"\n",
    "for i in ([\"a\", \"B\", \"r\", \"3\", \"s\"])\n",
    "    cadena +=i\n",
    "cadena \n"
   ]
  },
  {
   "cell_type": "code",
   "execution_count": 9,
   "metadata": {},
   "outputs": [
    {
     "name": "stdout",
     "output_type": "stream",
     "text": [
      "kJ4tegnC\n"
     ]
    }
   ],
   "source": [
    "import random\n",
    "\n",
    "n = 3 \n",
    "m = 8 \n",
    "\n",
    "#lsita de símbolos \n",
    "minusculas = \"abcdefghijklmnopqrstuvwxyz\"\n",
    "mayusculas = minusculas.upper()   # camibia a minusculas \n",
    "digitos = \"1234567890\"\n",
    "alfabeto = minusculas + mayusculas + digitos\n",
    "\n",
    "# Crea una sóla clave \n",
    "clave = random.choice(minusculas) #elegir una minuscula al azar. ejemplo clave = \"k\"\n",
    "# clave = clave + random.choice (mayusculas) #clave = \"kR\"\n",
    "clave += random.choice (mayusculas) #clave = \"kR\"\n",
    "clave += random.choice (digitos) #clave = \"kR3\"\n",
    "\n",
    "r = m - 3 # calculamos cuantas nos faltan  ej 5 \n",
    "faltantes = random.choices(alfabeto, k=r) # regresa una \"aBr3s\" \n",
    " \n",
    "faltantes = \"\".join (faltantes) # \" aBr3s\n",
    "clave += faltantes #KraBr3s\n",
    "print (clave)\n",
    "\n"
   ]
  },
  {
   "cell_type": "code",
   "execution_count": 21,
   "metadata": {},
   "outputs": [
    {
     "name": "stdout",
     "output_type": "stream",
     "text": [
      "eA2*cTTl1HL\n"
     ]
    }
   ],
   "source": [
    "import random\n",
    "\n",
    "n = 4 \n",
    "m = 10 \n",
    "\n",
    "                #lista de símbolos \n",
    "minusculas = \"abcdefghijklmnopqrstuvwxyz\"\n",
    "mayusculas = minusculas.upper()   # camibia a minusculas \n",
    "digitos = \"1234567890\"\n",
    "simbolo = \"*/#-$%&@\"\n",
    "alfabeto = minusculas + mayusculas + digitos + simbolo\n",
    "                # Crea una sóla clave \n",
    "clave = random.choice(minusculas) #elegir una minuscula al azar. ejemplo clave = \"k\"\n",
    "                # clave = clave + random.choice (mayusculas) #clave = \"kR\"\n",
    "clave += random.choice (mayusculas) #clave = \"kR\"\n",
    "clave += random.choice (digitos) #clave = \"kR3\"\n",
    "clave += random.choice (simbolo) #clave = \"kR3\"\n",
    "\n",
    "\n",
    "r = m - 3 # calculamos cuantas nos faltan  ej 5 \n",
    "faltantes = random.choices(alfabeto, k=r) # regresa una \"aBr3s\" \n",
    " \n",
    "faltantes = \"\".join (faltantes) # \" aBr3s\n",
    "clave += faltantes #KraBr3s\n",
    "print (clave)\n",
    "\n"
   ]
  },
  {
   "cell_type": "code",
   "execution_count": 19,
   "metadata": {},
   "outputs": [
    {
     "data": {
      "text/plain": [
       "\u001b[1;31mSignature:\u001b[0m \u001b[0mrandom\u001b[0m\u001b[1;33m.\u001b[0m\u001b[0mshuffle\u001b[0m\u001b[1;33m(\u001b[0m\u001b[0mx\u001b[0m\u001b[1;33m,\u001b[0m \u001b[0mrandom\u001b[0m\u001b[1;33m=\u001b[0m\u001b[1;32mNone\u001b[0m\u001b[1;33m)\u001b[0m\u001b[1;33m\u001b[0m\u001b[1;33m\u001b[0m\u001b[0m\n",
       "\u001b[1;31mDocstring:\u001b[0m\n",
       "Shuffle list x in place, and return None.\n",
       "\n",
       "Optional argument random is a 0-argument function returning a\n",
       "random float in [0.0, 1.0); if it is the default None, the\n",
       "standard random.random will be used.\n",
       "\u001b[1;31mFile:\u001b[0m      c:\\users\\desarrollador1\\miniconda3\\lib\\random.py\n",
       "\u001b[1;31mType:\u001b[0m      method\n"
      ]
     },
     "metadata": {},
     "output_type": "display_data"
    }
   ],
   "source": [
    "random.shuffle?"
   ]
  },
  {
   "cell_type": "code",
   "execution_count": 24,
   "metadata": {},
   "outputs": [
    {
     "name": "stdout",
     "output_type": "stream",
     "text": [
      "pR7@etIyiu\n",
      "bY9*L9wUA1\n",
      "tF1#&Tfict\n",
      "qE5/K4tzXA\n",
      "dY8*CQ1G@n\n"
     ]
    }
   ],
   "source": [
    "import random\n",
    "\n",
    "n = 5 \n",
    "m = 10 \n",
    "\n",
    "                #lista de símbolos \n",
    "minusculas = \"abcdefghijklmnopqrstuvwxyz\"\n",
    "mayusculas = minusculas.upper()   # camibia a minusculas \n",
    "digitos = \"1234567890\"\n",
    "simbolo = \"*/#-$%&@\"\n",
    "alfabeto = minusculas + mayusculas + digitos + simbolo\n",
    "\n",
    "\n",
    "\n",
    "for i in range (n):\n",
    "                    # Crea una sóla clave \n",
    "    clave = random.choice(minusculas) #elegir una minuscula al azar. ejemplo clave = \"k\"\n",
    "                    # clave = clave + random.choice (mayusculas) #clave = \"kR\"\n",
    "    clave += random.choice (mayusculas) #clave = \"kR\"\n",
    "    clave += random.choice (digitos) #clave = \"kR3\"\n",
    "    clave += random.choice (simbolo) #clave = \"kR3\"\n",
    "\n",
    "\n",
    "    r = m - 4 # calculamos cuantas nos faltan  ej 5 \n",
    "    faltantes = random.choices(alfabeto, k=r) # regresa una \"aBr3s\" \n",
    "\n",
    "    faltantes = \"\".join (faltantes) # \" aBr3s\n",
    "    clave += faltantes #KraBr3s\n",
    "    print (clave)\n"
   ]
  },
  {
   "cell_type": "code",
   "execution_count": 32,
   "metadata": {},
   "outputs": [
    {
     "name": "stdout",
     "output_type": "stream",
     "text": [
      "X7X&i4e*A6\n",
      "0gT/3NIDi/\n",
      "c8#zwJE/Kb\n",
      "2C4petR#kv\n",
      "$Pd#Sg0YDe\n"
     ]
    }
   ],
   "source": [
    "import random\n",
    "\n",
    "n = 5 \n",
    "m = 10 \n",
    "\n",
    "                #lista de símbolos \n",
    "minusculas = \"abcdefghijklmnopqrstuvwxyz\"\n",
    "mayusculas = minusculas.upper()   # camibia a minusculas \n",
    "digitos = \"1234567890\"\n",
    "simbolo = \"*/#-$%&@\"\n",
    "alfabeto = minusculas + mayusculas + digitos + simbolo\n",
    "\n",
    "\n",
    "\n",
    "for i in range (n):\n",
    "                    # Crea una sóla clave \n",
    "    clave = random.choice(minusculas) #elegir una minuscula al azar. ejemplo clave = \"k\"\n",
    "                    # clave = clave + random.choice (mayusculas) #clave = \"kR\"\n",
    "    clave += random.choice (mayusculas) #clave = \"kR\"\n",
    "    clave += random.choice (digitos) #clave = \"kR3\"\n",
    "    clave += random.choice (simbolo) #clave = \"kR3\"\n",
    "\n",
    "\n",
    "    r = m - 4 # calculamos cuantas nos faltan  ej 5 \n",
    "    faltantes = random.choices(alfabeto, k=r) # regresa una \"aBr3s\" \n",
    "\n",
    "    faltantes = \"\".join (faltantes) # \" aBr3s\n",
    "    clave += faltantes #KraBr3s\n",
    "    lclave = list (clave)  # esto lo que hace es convertir la clave a una   list para poder mesclarlas por que solo puede hacerse en list\n",
    "    random.shuffle (lclave) # esto es el que mezcla las letras \n",
    "    clave = \"\".join(lclave) # este lo que hace es juntarlo - contatenarlo esto es para que junte las listas sin los espacios \n",
    "    print (clave)\n"
   ]
  },
  {
   "cell_type": "code",
   "execution_count": 28,
   "metadata": {},
   "outputs": [
    {
     "data": {
      "text/plain": [
       "'dacbe'"
      ]
     },
     "execution_count": 28,
     "metadata": {},
     "output_type": "execute_result"
    }
   ],
   "source": [
    "# esto es un ejemplo para poder indicar una mezcla de la contraseña para que no tenga un patron \n",
    "cad = \"abcde\"\n",
    "lcad = list (cad)\n",
    "random.shuffle (lcad)\n",
    "\"\".join(lcad)"
   ]
  },
  {
   "cell_type": "code",
   "execution_count": null,
   "metadata": {},
   "outputs": [],
   "source": []
  },
  {
   "cell_type": "markdown",
   "metadata": {},
   "source": [
    "## Ejemplo: crear el script lista_carpeta.py que muestre los elementos de una carpeta dada por el usuario."
   ]
  },
  {
   "cell_type": "code",
   "execution_count": 33,
   "metadata": {},
   "outputs": [
    {
     "name": "stdout",
     "output_type": "stream",
     "text": [
      "['.ipynb_checkpoints', 'genera_claves.py', 'lista_carpeta.py', 'Notas.ipynb']\n"
     ]
    }
   ],
   "source": [
    "import os \n",
    "# variables \n",
    "                # \"\"\\Users\\Desarrollador1\\CursoPython\\sesion-03>\n",
    "carpeta = \".\"   # esto es lo que hace referencia a la carpeta actual\n",
    "\n",
    "# obtener la lista de elemantos de una carpeta \n",
    "elementos = os.listdir ( carpeta)\n",
    "print (elementos)"
   ]
  },
  {
   "cell_type": "code",
   "execution_count": 34,
   "metadata": {},
   "outputs": [
    {
     "name": "stdout",
     "output_type": "stream",
     "text": [
      ".ipynb_checkpoints\n",
      "genera_claves.py\n",
      "lista_carpeta.py\n",
      "Notas.ipynb\n"
     ]
    }
   ],
   "source": [
    "import os \n",
    "# variables \n",
    "                # \"\"\\Users\\Desarrollador1\\CursoPython\\sesion-03>\n",
    "carpeta = \".\"   # esto es lo que hace referencia a la carpeta actual\n",
    "\n",
    "# obtener la lista de elemantos de una carpeta \n",
    "elementos = os.listdir ( carpeta)\n",
    "\n",
    "# solo falta imprimir- se ingrsa para mostrar en forma de lista \n",
    "for e in elementos:\n",
    "    print (e)\n",
    "    "
   ]
  },
  {
   "cell_type": "markdown",
   "metadata": {},
   "source": [
    "## Ejemplo: modificar el script anterior para agregar la columna del tamaño de cada archivo en bytes, en caso de una carpeta usar el valor de cero."
   ]
  },
  {
   "cell_type": "code",
   "execution_count": 42,
   "metadata": {},
   "outputs": [
    {
     "name": "stdout",
     "output_type": "stream",
     "text": [
      ".ipynb_checkpoints                   4096\n",
      "genera_claves.py                     1153\n",
      "lista_carpeta.py                      345\n",
      "Notas.ipynb                         16681\n"
     ]
    }
   ],
   "source": [
    "import os \n",
    "# variables \n",
    "                # \"\"\\Users\\Desarrollador1\\CursoPython\\sesion-03>\n",
    "carpeta = \".\"   # esto es lo que hace referencia a la carpeta actual\n",
    "\n",
    "# obtener la lista de elemantos de una carpeta \n",
    "nombres = os.listdir ( carpeta) # [\"2nom1\", \"nom2\", ...]\n",
    "\n",
    "\"\"\"        esto es  comentarios de recordarorios \n",
    "estructura de datos para incluir el tamaño \n",
    "[\n",
    "    [\"nom1\", 1234], \n",
    "    [\"nom2\", 5678],\n",
    "    ...\n",
    "]\n",
    "\"\"\"\n",
    "elementos = []\n",
    "for nom in nombres:\n",
    "    tam = os.path.getsize(nom)\n",
    "    elemento = [nom, tam]\n",
    "    elementos.append(elemento)\n",
    "\n",
    "\n",
    "# solo falta imprimir- se ingrsa para mostrar en forma de lista \n",
    "for e in elementos:\n",
    "            #print (\"{} {}\".format(e [0,e [1]))\n",
    "    print (\"{:30} {:10}\".format(*e))  # va a agretgar todos los elementos de e ( e = al nom , 1234, ... )\n",
    "                              \n",
    "    "
   ]
  },
  {
   "cell_type": "code",
   "execution_count": 45,
   "metadata": {},
   "outputs": [
    {
     "name": "stdout",
     "output_type": "stream",
     "text": [
      ".ipynb_checkpoints                      0\n",
      "genera_claves.py                     1153\n",
      "lista_carpeta.py                      860\n",
      "Notas.ipynb                         18414\n"
     ]
    }
   ],
   "source": [
    "import os \n",
    "# variables \n",
    "                # \"\"\\Users\\Desarrollador1\\CursoPython\\sesion-03>\n",
    "carpeta = \".\"   # esto es lo que hace referencia a la carpeta actual\n",
    "\n",
    "# obtener la lista de elemantos de una carpeta \n",
    "nombres = os.listdir ( carpeta) # [\"2nom1\", \"nom2\", ...]\n",
    "\n",
    "\"\"\"        esto es  comentarios de recordarorios \n",
    "estructura de datos para incluir el tamaño \n",
    "[\n",
    "    [\"nom1\", 1234], \n",
    "    [\"nom2\", 5678],\n",
    "    ...\n",
    "]\n",
    "\"\"\"\n",
    "elementos = []\n",
    "for nom in nombres:\n",
    "    if os.path.isfile(nom):     # si es archivo - : calcula el tamaño  \n",
    "        tam = os.path.getsize(nom)\n",
    "    else: # si es una carpeta entonces \n",
    "        tam= 0\n",
    "        \n",
    "    elemento = [nom, tam]\n",
    "    elementos.append(elemento)\n",
    "\n",
    "\n",
    "# solo falta imprimir- se ingrsa para mostrar en forma de lista \n",
    "for e in elementos:\n",
    "            #print (\"{} {}\".format(e [0,e [1]))\n",
    "    print (\"{:30} {:10}\".format(*e))  # va a agretgar todos los elementos de e ( e = al nom , 1234, ... )\n"
   ]
  },
  {
   "cell_type": "code",
   "execution_count": null,
   "metadata": {},
   "outputs": [],
   "source": []
  },
  {
   "cell_type": "markdown",
   "metadata": {},
   "source": [
    "## Reto : modifica el script anterior para agregar una culumna con la fecha de modificiación. \n",
    "\n"
   ]
  },
  {
   "cell_type": "code",
   "execution_count": 61,
   "metadata": {},
   "outputs": [
    {
     "name": "stdout",
     "output_type": "stream",
     "text": [
      ".ipynb_checkpoints                      0 Mon May  4 21:26:20 2020\n",
      "genera_claves.py                     1153 Mon May  4 20:37:29 2020\n",
      "lista_carpeta.py                      860 Mon May  4 21:27:30 2020\n",
      "Notas.ipynb                         21335 Mon May  4 22:00:55 2020\n"
     ]
    }
   ],
   "source": [
    "\n",
    "import os \n",
    "import time \n",
    "\n",
    "# variables \n",
    "                # \"\"\\Users\\Desarrollador1\\CursoPython\\sesion-03>\n",
    "carpeta = \".\"   # esto es lo que hace referencia a la carpeta actual\n",
    "\n",
    "def obtener_elementos(carpeta):\n",
    "    \"\"\"\n",
    "    Obtiene los lementos de la carpeta y regresa en forma de lista \n",
    "    \"\"\"\n",
    "    \n",
    "    # obtener la lista de elemantos de una carpeta \n",
    "    nombres = os.listdir ( carpeta) # [\"2nom1\", \"nom2\", ...]\n",
    "\n",
    "    \"\"\"        esto es  comentarios de recordarorios \n",
    "    estructura de datos para incluir el tamaño \n",
    "    [\n",
    "        [\"nom1\", 1234], \n",
    "        [\"nom2\", 5678],\n",
    "        ...\n",
    "    ]\n",
    "    \"\"\"\n",
    "    elementos = []\n",
    "    for nom in nombres:\n",
    "        if os.path.isfile(nom):     # si es archivo - : calcula el tamaño  \n",
    "            tam = os.path.getsize(nom)\n",
    "        else: # si es una carpeta entonces \n",
    "            tam= 0\n",
    "\n",
    "        # para obtener la fecha \n",
    "        fecha = os.path.getmtime(nom)\n",
    "        fecha = time.ctime(fecha)\n",
    "\n",
    "        elemento = [nom, tam, fecha]\n",
    "        elementos.append(elemento)\n",
    "    return elementos\n",
    "\n",
    "def imprimir_elementos(elementos):\n",
    "    \"\"\"\"\n",
    "    imprime la lista de elementos en formato en formato de texto de salida \n",
    "    \n",
    "    \"\"\"\n",
    "    # solo falta imprimir- se ingrsa para mostrar en forma de lista \n",
    "    for e in elementos:\n",
    "                #print (\"{} {}\".format(e [0,e [1]))\n",
    "        print (\"{:30} {:10} {:15}\".format(*e))  # va a agretgar todos los elementos de e ( e = al nom , 1234, ... )\n",
    "\n",
    "\n",
    "# llamando a las funciones \n",
    "elementos = obtener_elementos (carpeta)\n",
    "imprimir_elementos ( elementos)\n",
    "    "
   ]
  },
  {
   "cell_type": "code",
   "execution_count": null,
   "metadata": {},
   "outputs": [],
   "source": []
  }
 ],
 "metadata": {
  "kernelspec": {
   "display_name": "Python 3",
   "language": "python",
   "name": "python3"
  },
  "language_info": {
   "codemirror_mode": {
    "name": "ipython",
    "version": 3
   },
   "file_extension": ".py",
   "mimetype": "text/x-python",
   "name": "python",
   "nbconvert_exporter": "python",
   "pygments_lexer": "ipython3",
   "version": "3.7.6"
  }
 },
 "nbformat": 4,
 "nbformat_minor": 4
}
