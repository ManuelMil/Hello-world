{
 "cells": [
  {
   "cell_type": "markdown",
   "metadata": {},
   "source": [
    "## Reto : Modificar el script lista_carpeta.py agregando una línea al final con el total de Bytes.\n",
    "    "
   ]
  },
  {
   "cell_type": "code",
   "execution_count": 1,
   "metadata": {},
   "outputs": [
    {
     "name": "stdout",
     "output_type": "stream",
     "text": [
      ".ipynb_checkpoints                      0 Tue May  5 21:14:31 2020\n",
      "----------------------------------------\n",
      "Total: 27688 Bytes\n",
      "genera_claves.py                     1153 Mon May  4 20:37:29 2020\n",
      "----------------------------------------\n",
      "Total: 27688 Bytes\n",
      "lista_carpeta.py                     1513 Mon May  4 22:11:33 2020\n",
      "----------------------------------------\n",
      "Total: 27688 Bytes\n",
      "Notas.ipynb                         21275 Mon May  4 22:02:55 2020\n",
      "----------------------------------------\n",
      "Total: 27688 Bytes\n",
      "Reto 3.ipynb                         3675 Wed May  6 19:24:56 2020\n",
      "----------------------------------------\n",
      "Total: 27688 Bytes\n",
      "Untitled.ipynb                         72 Tue May  5 21:14:31 2020\n",
      "----------------------------------------\n",
      "Total: 27688 Bytes\n"
     ]
    }
   ],
   "source": [
    "\n",
    "import os \n",
    "import time \n",
    "\n",
    "# variables \n",
    "                # \"\"\\Users\\Desarrollador1\\CursoPython\\sesion-03>\n",
    "carpeta = \".\"   # esto es lo que hace referencia a la carpeta actual\n",
    "\n",
    "def obtener_elementos(carpeta):\n",
    "    \"\"\"\n",
    "    Obtiene los lementos de la carpeta y regresa en forma de lista \n",
    "    \"\"\"\n",
    "    \n",
    "    # obtener la lista de elemantos de una carpeta \n",
    "    nombres = os.listdir ( carpeta) # [\"2nom1\", \"nom2\", ...]\n",
    "\n",
    "    \"\"\"        esto es  comentarios de recordarorios \n",
    "    estructura de datos para incluir el tamaño \n",
    "    [\n",
    "        [\"nom1\", 1234], \n",
    "        [\"nom2\", 5678],\n",
    "        ...\n",
    "    ]\n",
    "    \"\"\"\n",
    "    elementos = []\n",
    "    total = 0 \n",
    "    for nom in nombres:\n",
    "        if os.path.isfile(nom):     # si es archivo - : calcula el tamaño  \n",
    "            tam = os.path.getsize(nom)\n",
    "        else: # si es una carpeta entonces \n",
    "            tam= 0\n",
    "\n",
    "        # para obtener la fecha \n",
    "        fecha = os.path.getmtime(nom)\n",
    "        fecha = time.ctime(fecha)\n",
    "\n",
    "        elemento = [nom, tam, fecha]\n",
    "        elementos.append(elemento)\n",
    "    \n",
    "        # sumar el tam a total para cada elemento\"\n",
    "        \n",
    "        # total = total + tam \n",
    "        total += tam\n",
    "    return elementos, total\n",
    "\n",
    "def imprimir_elementos(elementos, total):\n",
    "    \"\"\"\"\n",
    "    imprime la lista de elementos en formato en formato de texto de salida \n",
    "    \n",
    "    \"\"\"\n",
    "    # solo falta imprimir- se ingrsa para mostrar en forma de lista \n",
    "    for e in elementos:\n",
    "                #print (\"{} {}\".format(e [0,e [1]))\n",
    "        print (\"{:30} {:10} {:15}\".format(*e))  # va a agretgar todos los elementos de e ( e = al nom , 1234, ... )\n",
    "        #imprimir total \n",
    "        print(\"-\" * 40)\n",
    "        print (\"Total: {} Bytes\".format(total)) \n",
    "        \n",
    "\n",
    "# llamando a las funciones \n",
    "elementos, total = obtener_elementos (carpeta)\n",
    "\n",
    "imprimir_elementos ( elementos, total)\n",
    "\n",
    "    \n",
    "\n",
    "\n"
   ]
  },
  {
   "cell_type": "code",
   "execution_count": null,
   "metadata": {},
   "outputs": [],
   "source": []
  },
  {
   "cell_type": "code",
   "execution_count": null,
   "metadata": {},
   "outputs": [],
   "source": []
  },
  {
   "cell_type": "markdown",
   "metadata": {},
   "source": [
    "## Reto Nivel Dios : Modificar el Script lista_carpeta.py para imprimir la lista de elementos de todas las subcarpetas y subsubcarpetas, mientras exista subniveles( imprimir todo el arbol de carpetas). ( tema de recursividad)"
   ]
  },
  {
   "cell_type": "code",
   "execution_count": null,
   "metadata": {},
   "outputs": [],
   "source": []
  }
 ],
 "metadata": {
  "kernelspec": {
   "display_name": "Python 3",
   "language": "python",
   "name": "python3"
  },
  "language_info": {
   "codemirror_mode": {
    "name": "ipython",
    "version": 3
   },
   "file_extension": ".py",
   "mimetype": "text/x-python",
   "name": "python",
   "nbconvert_exporter": "python",
   "pygments_lexer": "ipython3",
   "version": "3.7.6"
  }
 },
 "nbformat": 4,
 "nbformat_minor": 4
}
